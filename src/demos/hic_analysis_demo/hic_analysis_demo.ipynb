{
 "cells": [
  {
   "cell_type": "markdown",
   "metadata": {},
   "source": [
    "# **Hi-C Analysis Demo**"
   ]
  },
  {
   "cell_type": "markdown",
   "metadata": {},
   "source": [
    "First, let's download the data for this notebook."
   ]
  },
  {
   "cell_type": "code",
   "execution_count": null,
   "metadata": {},
   "outputs": [],
   "source": [
    "import os\n",
    "import sys\n",
    "\n",
    "# Append the root of the Git repository to the path.\n",
    "git_root = os.popen(cmd=\"git rev-parse --show-toplevel\").read().strip()\n",
    "sys.path.append(git_root)"
   ]
  },
  {
   "cell_type": "code",
   "execution_count": null,
   "metadata": {},
   "outputs": [],
   "source": [
    "from utils import download_file\n",
    "\n",
    "if not os.path.exists(path=\"data\"):\n",
    "    os.makedirs(name=\"data\")\n",
    "\n",
    "download_file(\n",
    "    # url=\"https://dataverse.harvard.edu/api/access/datafile/10493866\",\n",
    "    url=\"https://seafile.cloud.uni-hannover.de/d/5d6029c6eaaf410c8b01/files/?p=%2Fhic_analysis_demo%2FGSE63525_GM12878_insitu_primary_30-250k.cool&dl=1\",\n",
    "    save_filename=\"data/GSE63525_GM12878_insitu_primary_30-250k.cool\",\n",
    ")"
   ]
  },
  {
   "cell_type": "markdown",
   "metadata": {},
   "source": [
    "Next, we use [cooler](https://github.com/open2c/cooler) to load the real-world Hi-C data."
   ]
  },
  {
   "cell_type": "code",
   "execution_count": null,
   "metadata": {},
   "outputs": [],
   "source": [
    "import cooler\n",
    "\n",
    "cool_data = cooler.Cooler(store=\"data/GSE63525_GM12878_insitu_primary_30-250k.cool\")\n",
    "print(f\"Data resolution: {cool_data.binsize:,} bp\")\n",
    "print(f\"Available chromosomes: {cool_data.chromnames}\")"
   ]
  },
  {
   "cell_type": "markdown",
   "metadata": {},
   "source": [
    "Then we load the [Knight-Ruiz](https://doi.org/10.1093/imanum/drs019) balanced contact matrix of chromosome 1."
   ]
  },
  {
   "cell_type": "code",
   "execution_count": null,
   "metadata": {},
   "outputs": [],
   "source": [
    "selected_chrom = \"1\"\n",
    "contact_matrix = cool_data.matrix(balance=\"KR\").fetch(selected_chrom)"
   ]
  },
  {
   "cell_type": "markdown",
   "metadata": {},
   "source": [
    "Next, we remove NaNs (these occur due to the matrix balancing), zero entries, and unalignable regions from the contact matrix."
   ]
  },
  {
   "cell_type": "code",
   "execution_count": null,
   "metadata": {},
   "outputs": [],
   "source": [
    "import numpy as np\n",
    "\n",
    "# Remove NaNs.\n",
    "observed_ids = np.argwhere(~np.isnan(contact_matrix))\n",
    "observed_row_ids = observed_ids[:, 0]\n",
    "observed_col_ids = observed_ids[:, 1]\n",
    "observed_contact_matrix_values = contact_matrix[observed_row_ids, observed_col_ids]\n",
    "\n",
    "# Remove 0.0s.\n",
    "nonzero_mask = ~np.isclose(observed_contact_matrix_values, 0.0)\n",
    "observed_row_ids = observed_row_ids[nonzero_mask]\n",
    "observed_col_ids = observed_col_ids[nonzero_mask]\n",
    "observed_contact_matrix_values = observed_contact_matrix_values[nonzero_mask]\n",
    "\n",
    "# Remove unalignable regions.\n",
    "unique_observed_ids = np.unique(np.concatenate([observed_row_ids, observed_col_ids]))\n",
    "observed_row_ids = np.searchsorted(unique_observed_ids, observed_row_ids)\n",
    "observed_col_ids = np.searchsorted(unique_observed_ids, observed_col_ids)"
   ]
  },
  {
   "cell_type": "markdown",
   "metadata": {},
   "source": [
    "The number of contacts is inversely related to the (Euclidean) distance in three-dimensional space, since neighboring regions are more likely to interact.\n",
    "Therefore, we convert the contact matrix $\\mathbf{C}$ into a proxy of the Euclidean distance matrix (EDM) $\\mathbf{D}$ using a conversion factor $\\alpha$:\n",
    "\n",
    "$$\n",
    "D_{i,j} = \\frac{1}{C^{\\alpha}_{i,j}}.\n",
    "$$"
   ]
  },
  {
   "cell_type": "code",
   "execution_count": null,
   "metadata": {},
   "outputs": [],
   "source": [
    "import torch\n",
    "\n",
    "alpha = -1\n",
    "observed_ed_mat_values = torch.from_numpy(\n",
    "    np.power(observed_contact_matrix_values, alpha)\n",
    ").float()"
   ]
  },
  {
   "cell_type": "markdown",
   "metadata": {},
   "source": [
    "We initialize a gradient-tracking PyTorch tensor filled with random numbers from a uniform distribution on the interval $[0,1)$.\n",
    "This is the point set that we want to optimize."
   ]
  },
  {
   "cell_type": "code",
   "execution_count": null,
   "metadata": {},
   "outputs": [],
   "source": [
    "# torch.manual_seed(seed=42)\n",
    "n_points = len(unique_observed_ids)\n",
    "predicted_coord_mat = torch.rand(size=(3, n_points), requires_grad=True)"
   ]
  },
  {
   "cell_type": "markdown",
   "metadata": {},
   "source": [
    "For the optimization procedure, we also need a function to convert our to-be-optimized point set into its corresponding EDM."
   ]
  },
  {
   "cell_type": "code",
   "execution_count": null,
   "metadata": {},
   "outputs": [],
   "source": [
    "def point2edm(coord_mat: torch.Tensor) -> torch.Tensor:\n",
    "    \"\"\"Convert a coordinate matrix to an Euclidean distance matrix.\"\"\"\n",
    "    gram_mat = coord_mat.T @ coord_mat\n",
    "    diag_vec = torch.diag(gram_mat).reshape(shape=(-1, 1))\n",
    "    ones_vec = torch.ones(size=(coord_mat.shape[1], 1))\n",
    "    ed_mat = diag_vec @ ones_vec.T + ones_vec * diag_vec.T - 2 * gram_mat\n",
    "    return ed_mat"
   ]
  },
  {
   "cell_type": "markdown",
   "metadata": {},
   "source": [
    "Finally, we optimize the point set using [Adam](https://doi.org/10.48550/arXiv.1412.6980)."
   ]
  },
  {
   "cell_type": "code",
   "execution_count": null,
   "metadata": {},
   "outputs": [],
   "source": [
    "from torch.nn.functional import mse_loss\n",
    "\n",
    "optimizer = torch.optim.Adam(params=[predicted_coord_mat], lr=1e-1)\n",
    "\n",
    "n_iterations = 1000\n",
    "\n",
    "for i in range(n_iterations):\n",
    "    optimizer.zero_grad()\n",
    "    predicted_ed_mat = point2edm(coord_mat=predicted_coord_mat)\n",
    "    partial_predicted_ed_mat_values = predicted_ed_mat[\n",
    "        observed_row_ids, observed_col_ids\n",
    "    ]\n",
    "    loss = mse_loss(\n",
    "        input=partial_predicted_ed_mat_values, target=observed_ed_mat_values\n",
    "    )\n",
    "    loss.backward()\n",
    "    optimizer.step()\n",
    "\n",
    "    print(f\"Iteration [{(i + 1):5}/{n_iterations:5}] | Loss={loss:8f}\")"
   ]
  },
  {
   "cell_type": "markdown",
   "metadata": {},
   "source": [
    "Finally, we plot the optimized point set."
   ]
  },
  {
   "cell_type": "code",
   "execution_count": null,
   "metadata": {},
   "outputs": [],
   "source": [
    "import matplotlib.pyplot as plt\n",
    "\n",
    "fig = plt.figure()\n",
    "ax = fig.add_subplot(111, projection=\"3d\")\n",
    "predicted_coord_mat_np = predicted_coord_mat.detach().numpy()\n",
    "ax.scatter(\n",
    "    predicted_coord_mat_np[0, :],\n",
    "    predicted_coord_mat_np[1, :],\n",
    "    predicted_coord_mat_np[2, :],\n",
    ")\n",
    "plt.show()"
   ]
  }
 ],
 "metadata": {
  "kernelspec": {
   "display_name": "Python 3",
   "language": "python",
   "name": "python3"
  },
  "language_info": {
   "codemirror_mode": {
    "name": "ipython",
    "version": 3
   },
   "file_extension": ".py",
   "mimetype": "text/x-python",
   "name": "python",
   "nbconvert_exporter": "python",
   "pygments_lexer": "ipython3",
   "version": "3.12.7"
  }
 },
 "nbformat": 4,
 "nbformat_minor": 2
}
