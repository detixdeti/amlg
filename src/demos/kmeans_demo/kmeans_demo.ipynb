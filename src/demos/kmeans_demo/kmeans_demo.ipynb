{
 "cells": [
  {
   "cell_type": "markdown",
   "metadata": {},
   "source": [
    "# **K-Means Demo**"
   ]
  },
  {
   "cell_type": "code",
   "execution_count": null,
   "metadata": {},
   "outputs": [],
   "source": [
    "import matplotlib.pyplot as plt\n",
    "import numpy as np\n",
    "import numpy.typing as npt\n",
    "from IPython.display import clear_output\n",
    "from matplotlib.markers import MarkerStyle\n",
    "from sklearn.cluster import KMeans"
   ]
  },
  {
   "cell_type": "markdown",
   "metadata": {},
   "source": [
    "# Data"
   ]
  },
  {
   "cell_type": "markdown",
   "metadata": {},
   "source": [
    "We create a mixture of two bivariate Gaussian distributions:"
   ]
  },
  {
   "cell_type": "code",
   "execution_count": null,
   "metadata": {},
   "outputs": [],
   "source": [
    "# Generate samples.\n",
    "samples1 = np.random.multivariate_normal(\n",
    "    mean=[2.0, 2.0], cov=[[1.5, 0.5], [0.5, 1.5]], size=400\n",
    ")\n",
    "samples2 = np.random.multivariate_normal(\n",
    "    mean=[-2.0, -2.0], cov=[[2.0, -0.5], [-0.5, 2.0]], size=400\n",
    ")\n",
    "\n",
    "# Concatenate samples.\n",
    "samples = np.concatenate((samples1, samples2))\n",
    "\n",
    "# Plot samples.\n",
    "plt.scatter(x=samples[:, 0], y=samples[:, 1], alpha=0.5)\n",
    "plt.show()"
   ]
  },
  {
   "attachments": {},
   "cell_type": "markdown",
   "metadata": {},
   "source": [
    "# K-Means From `scikit-learn`"
   ]
  },
  {
   "attachments": {},
   "cell_type": "markdown",
   "metadata": {},
   "source": [
    "We use the _k_-means implementation from `scikit-learn` to group our samples into two clusters:"
   ]
  },
  {
   "cell_type": "code",
   "execution_count": null,
   "metadata": {},
   "outputs": [],
   "source": [
    "kmeans = KMeans(n_clusters=2, init=\"random\", n_init=\"auto\", random_state=0).fit(\n",
    "    X=samples\n",
    ")"
   ]
  },
  {
   "attachments": {},
   "cell_type": "markdown",
   "metadata": {},
   "source": [
    "By inspecting the labels, we see that the algorithm classified most samples correctly:"
   ]
  },
  {
   "cell_type": "code",
   "execution_count": null,
   "metadata": {},
   "outputs": [],
   "source": [
    "kmeans.labels_"
   ]
  },
  {
   "attachments": {},
   "cell_type": "markdown",
   "metadata": {},
   "source": [
    "We can also inspect the location of the cluster centers:"
   ]
  },
  {
   "cell_type": "code",
   "execution_count": null,
   "metadata": {},
   "outputs": [],
   "source": [
    "kmeans.cluster_centers_"
   ]
  },
  {
   "attachments": {},
   "cell_type": "markdown",
   "metadata": {},
   "source": [
    "Also, we can predict the labels for new data:"
   ]
  },
  {
   "cell_type": "code",
   "execution_count": null,
   "metadata": {},
   "outputs": [],
   "source": [
    "new_samples = np.array([[5.0, 1.0], [-3.0, -5.0], [0.0, 4.5]])\n",
    "kmeans.predict(X=new_samples)"
   ]
  },
  {
   "attachments": {},
   "cell_type": "markdown",
   "metadata": {},
   "source": [
    "Lastly, we visualize the data:"
   ]
  },
  {
   "cell_type": "code",
   "execution_count": null,
   "metadata": {},
   "outputs": [],
   "source": [
    "def kmeans_plot(\n",
    "    samples: npt.ArrayLike,\n",
    "    labels: npt.ArrayLike,\n",
    "    centroids: npt.ArrayLike,\n",
    "    title: str = \"\",\n",
    ") -> None:\n",
    "    \"\"\"Plot samples and centroids.\"\"\"\n",
    "    samples = np.array(samples)\n",
    "    plt.scatter(\n",
    "        x=samples[:, 0],\n",
    "        y=samples[:, 1],\n",
    "        c=labels,\n",
    "        cmap=\"Dark2\",\n",
    "        alpha=0.6,\n",
    "        label=\"Samples\",\n",
    "    )\n",
    "    centroids = np.array(centroids)\n",
    "    plt.scatter(\n",
    "        x=centroids[:, 0],\n",
    "        y=centroids[:, 1],\n",
    "        s=200,\n",
    "        c=\"black\",\n",
    "        marker=MarkerStyle(\"x\"),\n",
    "        label=\"Centroids\",\n",
    "    )\n",
    "    plt.title(label=title)\n",
    "    plt.legend()\n",
    "    plt.show()\n",
    "\n",
    "\n",
    "kmeans_plot(samples=samples, labels=kmeans.labels_, centroids=kmeans.cluster_centers_)"
   ]
  },
  {
   "attachments": {},
   "cell_type": "markdown",
   "metadata": {},
   "source": [
    "# K-Means From Scratch"
   ]
  },
  {
   "cell_type": "markdown",
   "metadata": {},
   "source": [
    "## Initialization"
   ]
  },
  {
   "cell_type": "markdown",
   "metadata": {},
   "source": [
    "The first step of the algorithm is to place $k$ initial cluster centers (centroids/means).\n",
    "(Hence the name _k_-means.)\n",
    "This can for example be done randomly; however, there are better and more sophisticated initialization methods.\n",
    "Here we choose the Forgy method.\n",
    "The Forgy method randomly chooses $k$ observations from the dataset and uses these as the initial means. \n",
    "The number of clusters $k$ has to be chosen manually (or as part of a hyperparameter optimization)."
   ]
  },
  {
   "cell_type": "code",
   "execution_count": null,
   "metadata": {},
   "outputs": [],
   "source": [
    "def kmeans_initialize(\n",
    "    n_clusters: int, samples: npt.NDArray[np.float64]\n",
    ") -> npt.NDArray[np.float64]:\n",
    "    \"\"\"Initialize the centroids.\"\"\"\n",
    "    # Generate n_clusters unique random indices.\n",
    "    unique_indices = np.random.choice(\n",
    "        a=samples.shape[0], size=n_clusters, replace=False\n",
    "    )\n",
    "\n",
    "    # Select and return the centroids using the unique indices.\n",
    "    return samples[unique_indices]"
   ]
  },
  {
   "cell_type": "code",
   "execution_count": null,
   "metadata": {},
   "outputs": [],
   "source": [
    "centroids = kmeans_initialize(n_clusters=2, samples=samples)\n",
    "print(centroids)"
   ]
  },
  {
   "cell_type": "markdown",
   "metadata": {},
   "source": [
    "## Assignment Step"
   ]
  },
  {
   "cell_type": "markdown",
   "metadata": {},
   "source": [
    "Assign each observation to the cluster with the nearest mean: that with the least Euclidean distance.\n",
    "\n",
    "> Mathematically, this means partitioning the observations according to the Voronoi diagram generated by the means."
   ]
  },
  {
   "cell_type": "code",
   "execution_count": null,
   "metadata": {},
   "outputs": [],
   "source": [
    "def kmeans_assignment_step(\n",
    "    samples: npt.NDArray[np.float64], centroids: npt.NDArray[np.float64]\n",
    ") -> npt.NDArray[np.int64]:\n",
    "    \"\"\"Assign samples to the closest centroid.\"\"\"\n",
    "    # Calculate the Euclidean distances between samples and centroids.\n",
    "    distances = np.linalg.norm(x=(samples[:, np.newaxis] - centroids), axis=2)\n",
    "\n",
    "    # Find the index of the closest centroid for each sample.\n",
    "    labels = np.argmin(a=distances, axis=1)\n",
    "\n",
    "    return labels"
   ]
  },
  {
   "cell_type": "code",
   "execution_count": null,
   "metadata": {},
   "outputs": [],
   "source": [
    "labels = kmeans_assignment_step(samples, centroids)\n",
    "kmeans_plot(samples=samples, labels=labels, centroids=centroids)"
   ]
  },
  {
   "cell_type": "markdown",
   "metadata": {},
   "source": [
    "## Update Step"
   ]
  },
  {
   "attachments": {},
   "cell_type": "markdown",
   "metadata": {},
   "source": [
    "Recalculate means (centroids) for observations assigned to each cluster."
   ]
  },
  {
   "cell_type": "code",
   "execution_count": null,
   "metadata": {},
   "outputs": [],
   "source": [
    "def kmeans_update_step(\n",
    "    samples: npt.NDArray[np.float64],\n",
    "    labels: npt.NDArray[np.int64],\n",
    "    centroids: npt.NDArray[np.float64],\n",
    ") -> npt.NDArray[np.float64]:\n",
    "    \"\"\"Update the centroids.\"\"\"\n",
    "    new_centroids = np.array(\n",
    "        [samples[labels == cluster].mean(axis=0) for cluster in range(len(centroids))]\n",
    "    )\n",
    "    return new_centroids"
   ]
  },
  {
   "cell_type": "code",
   "execution_count": null,
   "metadata": {},
   "outputs": [],
   "source": [
    "old_centroids = centroids\n",
    "kmeans_plot(\n",
    "    samples=samples, labels=labels, centroids=old_centroids, title=\"Old centroids\"\n",
    ")\n",
    "\n",
    "new_centroids = kmeans_update_step(samples=samples, labels=labels, centroids=centroids)\n",
    "kmeans_plot(\n",
    "    samples=samples, labels=labels, centroids=new_centroids, title=\"New centroids\"\n",
    ")"
   ]
  },
  {
   "attachments": {},
   "cell_type": "markdown",
   "metadata": {},
   "source": [
    "## Iterate"
   ]
  },
  {
   "attachments": {},
   "cell_type": "markdown",
   "metadata": {},
   "source": [
    "Now we repeat these two steps until the centroids converge and do not move anymore.\n",
    "Here we use a fixed number of iterations."
   ]
  },
  {
   "cell_type": "code",
   "execution_count": null,
   "metadata": {},
   "outputs": [],
   "source": [
    "n_iterations = 20\n",
    "n_clusters = 2\n",
    "\n",
    "centroids = kmeans_initialize(n_clusters=n_clusters, samples=samples)\n",
    "\n",
    "for i in range(n_iterations):\n",
    "    labels = kmeans_assignment_step(samples=samples, centroids=centroids)\n",
    "    centroids = kmeans_update_step(samples=samples, labels=labels, centroids=centroids)\n",
    "    clear_output(wait=True)\n",
    "    kmeans_plot(samples=samples, centroids=centroids, labels=labels, title=f\"i = {i}\")\n",
    "    plt.pause(interval=0.2)"
   ]
  }
 ],
 "metadata": {
  "kernelspec": {
   "display_name": "Python 3",
   "language": "python",
   "name": "python3"
  },
  "language_info": {
   "codemirror_mode": {
    "name": "ipython",
    "version": 3
   },
   "file_extension": ".py",
   "mimetype": "text/x-python",
   "name": "python",
   "nbconvert_exporter": "python",
   "pygments_lexer": "ipython3",
   "version": "3.12.7"
  },
  "orig_nbformat": 4
 },
 "nbformat": 4,
 "nbformat_minor": 2
}
