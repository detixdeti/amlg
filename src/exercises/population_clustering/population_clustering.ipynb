{
 "cells": [
  {
   "cell_type": "markdown",
   "metadata": {},
   "source": [
    "# **Population Clustering Using Principal Component Analysis**"
   ]
  },
  {
   "cell_type": "markdown",
   "metadata": {},
   "source": [
    "First, let's download the data for this notebook."
   ]
  },
  {
   "cell_type": "code",
   "execution_count": null,
   "metadata": {},
   "outputs": [],
   "source": [
    "import os\n",
    "import sys\n",
    "\n",
    "# Append the root of the Git repository to the path.\n",
    "git_root = os.popen(cmd=\"git rev-parse --show-toplevel\").read().strip()\n",
    "sys.path.append(git_root)"
   ]
  },
  {
   "cell_type": "code",
   "execution_count": null,
   "metadata": {},
   "outputs": [],
   "source": [
    "from utils import download_file\n",
    "\n",
    "if not os.path.exists(path=\"data\"):\n",
    "    os.makedirs(name=\"data\")\n",
    "\n",
    "download_file(\n",
    "    # url=\"https://dataverse.harvard.edu/api/access/datafile/10494344\",\n",
    "    url=\"https://seafile.cloud.uni-hannover.de/d/5d6029c6eaaf410c8b01/files/?p=%2Fpopulation_clustering%2F1000_genomes_data.txt&dl=1\",\n",
    "    save_filename=\"data/1000_genomes_data.txt\",\n",
    ")"
   ]
  },
  {
   "cell_type": "markdown",
   "metadata": {},
   "source": [
    "# Data"
   ]
  },
  {
   "cell_type": "markdown",
   "metadata": {},
   "source": [
    "The contents in this notebook are motivated by the article [Genes mirror geography within Europe](https://doi.org/10.1038/nature07331).\n",
    "\n",
    "> A copy of the article is available [here](https://dataverse.harvard.edu/api/access/datafile/10494343) or [here](https://seafile.cloud.uni-hannover.de/d/5d6029c6eaaf410c8b01/files/?p=%2Fpopulation_clustering%2Fnature07331.pdf).\n",
    "\n",
    "In this article, the authors characterize genetic variation in a sample of 3,000 European individuals genotyped at over half a million variable DNA sites in the human genome.\n",
    "They use principal components analysis (PCA) to produce a two-dimensional visual summary of the observed genetic variation.\n",
    "The resulting figure bears a notable resemblance to a geographic map of Europe.\n",
    "Individuals from the same geographic region cluster together and major populations are distinguishable.\n",
    "\n",
    "<img src=\"images/pcs_mirror_eu_populations.png\" width=600 />\n",
    "\n",
    "In this notebook, we aim at performing a similar analysis with data from the [1000 Genomes Project](https://www.internationalgenome.org/1000-genomes-summary/).\n",
    "In the file `1000_genomes_data.txt` (in the `data/` folder) we provide genetic data for 995 individuals with African ancestry.\n",
    "Each of the 995 lines in the file represents an individual.\n",
    "\n",
    "The first three columns exhibit the following semantics:\n",
    "\n",
    "- The first column contains the individual's unique identifier.\n",
    "- The second column contains the individual's sex (1=male, 2=female).\n",
    "- The third column represents the population the individual belongs to. There are seven populations in the dataset: ACB, ASW, ESN, GWD, LWK, MSL, YRI.\n",
    "\n",
    "The populations are described as follows.\n",
    "\n",
    "> All (other) population descriptions are provided on the [_The International Genome Sample Resource_ website](https://www.internationalgenome.org/cell-lines-and-dna-coriell).\n",
    "\n",
    "| Population code | Population description                  |\n",
    "|-----------------|-----------------------------------------|\n",
    "| ACB             | African Caribbean in Barbados           |\n",
    "| ASW             | African Ancestry in Southwest US        |\n",
    "| ESN             | Esan in Nigeria                         |\n",
    "| GWD             | Gambian in Western Division, The Gambia |\n",
    "| LWK             | Luhya in Webuye, Kenya                  |\n",
    "| MSL             | Mende in Sierra Leone                   |\n",
    "| YRI             | Yoruba in Ibadan, Nigeria               |\n",
    "\n",
    "The remaining 10,101 columns of each line are single-nucleotide polymorphisms (SNPs) from the individual's genome.\n",
    "Note: the loci of the SNPs are unknown, but they are the same across all individuals!"
   ]
  },
  {
   "cell_type": "markdown",
   "metadata": {},
   "source": [
    "We can use the function [`read_csv()`](https://pandas.pydata.org/docs/reference/api/pandas.read_csv.html) from [pandas](https://pandas.pydata.org) to read in the data from the file `1000_genomes_data.txt`."
   ]
  },
  {
   "cell_type": "code",
   "execution_count": null,
   "metadata": {},
   "outputs": [],
   "source": [
    "import numpy as np\n",
    "import pandas as pd\n",
    "\n",
    "df = pd.read_csv(\n",
    "    filepath_or_buffer=\"data/1000_genomes_data.txt\", header=None, sep=r\"\\s+\"\n",
    ")\n",
    "print(f\"Dataframe shape: {df.shape}\")\n",
    "\n",
    "identifiers = df[0]\n",
    "sexes = df[1]\n",
    "populations = df[2]\n",
    "\n",
    "print(f\"Number of unique individuals: {len(np.unique(identifiers))}\")\n",
    "print(f\"Sexes: {np.unique(sexes)}\")\n",
    "print(f\"Populations: {np.unique(populations)}\")"
   ]
  },
  {
   "cell_type": "markdown",
   "metadata": {},
   "source": [
    "# Preprocessing"
   ]
  },
  {
   "cell_type": "markdown",
   "metadata": {},
   "source": [
    "To understand what distinguishes individuals from different populations, we will focus on the differences between the SNP \"vectors\".\n",
    "Hence, we first need to compute the consensus bases for all SNP loci.\n",
    "Then, in a second step, we can compute for each individual the SNP aberrations w.r.t. to the consensus bases."
   ]
  },
  {
   "cell_type": "markdown",
   "metadata": {},
   "source": [
    "##### ❓ Computing the consensus bases"
   ]
  },
  {
   "cell_type": "markdown",
   "metadata": {},
   "source": [
    "1. Use the [`drop()`](https://pandas.pydata.org/pandas-docs/stable/reference/api/pandas.DataFrame.drop.html) function to drop the first three columns (identifiers, sexes, populations) from the dataframe `df`.\n",
    "2. Then, for each SNP locus, compute the respective consensus base, i.e., the base that appears most often across all individuals. The consensus bases shall be stored in a variable named `consensus_bases` of type `numpy.ndarray` with shape `(10101,)`."
   ]
  },
  {
   "cell_type": "code",
   "execution_count": null,
   "metadata": {},
   "outputs": [],
   "source": [
    "df.drop(columns=[0, 1, 2], inplace=True)\n",
    "consensus_bases = np.array(df.mode().values[0, :])"
   ]
  },
  {
   "cell_type": "markdown",
   "metadata": {},
   "source": [
    "##### ❓ Infer individual SNP aberrations"
   ]
  },
  {
   "cell_type": "markdown",
   "metadata": {},
   "source": [
    "1. Extract a $995 \\times 10101$ SNP matrix from the dataframe `df` using [to_numpy()](https://pandas.pydata.org/docs/reference/api/pandas.DataFrame.to_numpy.html).\n",
    "2. Then, compute the aberrations matrix $\\mathbf{X}$ such that $x_{i,j} = 0$ if the $i$-th individual's SNP at position $j$ is equal to the $j$-th consensus base, and $x_{i,j} = 1$ if the $i$-th individual's SNP at position $j$ is different from the $j$-th consensus base.\n",
    "\n",
    "> Hint: [numpy.where()](https://numpy.org/doc/stable/reference/generated/numpy.where.html) might be handy."
   ]
  },
  {
   "cell_type": "code",
   "execution_count": null,
   "metadata": {},
   "outputs": [],
   "source": [
    "snps = df.to_numpy()\n",
    "X = np.where(snps != consensus_bases, 1, 0)"
   ]
  },
  {
   "cell_type": "markdown",
   "metadata": {},
   "source": [
    "# PCA"
   ]
  },
  {
   "cell_type": "markdown",
   "metadata": {},
   "source": [
    "In the next step, our goal is to project the binary feature vectors (rows of $\\mathbf{X}$) to a lower-dimensional subspace."
   ]
  },
  {
   "cell_type": "markdown",
   "metadata": {},
   "source": [
    "##### ❓ Dimensionality reduction"
   ]
  },
  {
   "cell_type": "markdown",
   "metadata": {},
   "source": [
    "1. Standardize the feature vectors by removing the mean and scaling to unit variance.\n",
    "2. Transform the data in $\\mathbf{X}$ to a 3-dimensional subspace using [`sklearn.decomposition.PCA`](https://scikit-learn.org/stable/modules/generated/sklearn.decomposition.PCA.html). Store the transformed data in a variable named `Z` representing the $995 \\times 3$ transformed aberrations matrix $\\mathbf{Z}$."
   ]
  },
  {
   "cell_type": "code",
   "execution_count": null,
   "metadata": {},
   "outputs": [],
   "source": [
    "from sklearn.decomposition import PCA\n",
    "from sklearn.preprocessing import StandardScaler\n",
    "\n",
    "X = StandardScaler().fit_transform(X=X)\n",
    "pca = PCA(n_components=3)\n",
    "Z = pca.fit_transform(X=X)"
   ]
  },
  {
   "cell_type": "markdown",
   "metadata": {},
   "source": [
    "##### ❓ Population clustering"
   ]
  },
  {
   "cell_type": "markdown",
   "metadata": {},
   "source": [
    "We expect that different individuals within a population have similar values of their projections onto the principal components.\n",
    "\n",
    "Complete the following code to produce a scatter plot of all feature vectors projected onto the first and second principal components (i.e., $\\mathbf{Z}$).\n",
    "Use the provided colors to visualize the different population clusters.\n",
    "\n",
    "> Notice how individuals in a particular population have similar aberrations such that their projected feature vectors start to look similar.\n",
    "> Also, note that individuals in different populations have aberrations at different loci.\n",
    ">\n",
    "> Furthermore, note how the clusters for the two Nigerian populations (ESN, YRI) largely overlap.\n",
    "> The populations from Sierra Leone (MSL) and The Gambia (GWD) are separated from the Nigerian populations through the second principal component, whereas the first principal component distinguishes the Kenyan (LWK) population from the Nigerian populations.\n",
    ">\n",
    "> In summary, although the principal components do not entirely correlate with well-known geographical directions (North-South, East-West) as in the European example above, they clearly convey some kind of geographic information."
   ]
  },
  {
   "cell_type": "code",
   "execution_count": null,
   "metadata": {},
   "outputs": [],
   "source": [
    "import matplotlib.pyplot as plt\n",
    "\n",
    "plt.figure(figsize=(6, 4))\n",
    "for label, color in zip(\n",
    "    np.unique(populations),\n",
    "    (\n",
    "        \"tab:blue\",\n",
    "        \"tab:orange\",\n",
    "        \"tab:green\",\n",
    "        \"tab:red\",\n",
    "        \"tab:purple\",\n",
    "        \"tab:brown\",\n",
    "        \"tab:pink\",\n",
    "    ),\n",
    "):\n",
    "    plt.scatter(\n",
    "        Z[populations == label, 0],\n",
    "        Z[populations == label, 1],\n",
    "        label=label,\n",
    "        c=color,\n",
    "        alpha=0.3,\n",
    "    )\n",
    "plt.xlabel(\"Principal Component 1\")\n",
    "plt.ylabel(\"Principal Component 2\")\n",
    "plt.legend(loc=\"lower right\")\n",
    "plt.show()"
   ]
  },
  {
   "cell_type": "markdown",
   "metadata": {},
   "source": [
    "##### ❓ Sex clustering"
   ]
  },
  {
   "cell_type": "markdown",
   "metadata": {},
   "source": [
    "As seen above, different individuals within a population have similar values of their projections onto the first two principal components.\n",
    "Let us now inspect the third principal component.\n",
    "\n",
    "Complete the following code to produce a scatter plot of all feature vectors projected onto the first and _third_ principal components.\n",
    "Use the provided colors to visualize the different sexes.\n",
    "\n",
    "> Interestingly enough, the third principal component seems to encode the sex information!"
   ]
  },
  {
   "cell_type": "code",
   "execution_count": null,
   "metadata": {},
   "outputs": [],
   "source": [
    "plt.figure(figsize=(6, 4))\n",
    "for label, color in zip(np.unique(sexes), (\"tab:blue\", \"tab:orange\")):\n",
    "    plt.scatter(\n",
    "        Z[sexes == label, 0],\n",
    "        Z[sexes == label, 2],\n",
    "        label=label,\n",
    "        c=color,\n",
    "        alpha=0.3,\n",
    "    )\n",
    "plt.xlabel(\"Principal Component 1\")\n",
    "plt.ylabel(\"Principal Component 3\")\n",
    "plt.legend(loc=\"lower right\")\n",
    "plt.show()"
   ]
  },
  {
   "cell_type": "markdown",
   "metadata": {},
   "source": [
    "##### ❓ A deeper look into the data"
   ]
  },
  {
   "cell_type": "markdown",
   "metadata": {},
   "source": [
    "We just remarked above that the third principal component is responsible for popping out the sex differences.\n",
    "But can we say more? Can we say which aberrations are different between males and females?\n",
    "\n",
    "To answer this, we can look at the principal axes (i.e., eigenvectors) in the feature space, representing the directions of maximum variance in the data.\n",
    "\n",
    "Make a scatter plot of the 10,101 values of the third principal axe (accessible as `pca.components_[2]`) versus the indexes of the aberrations (i.e., a range from 0 to 10,100).\n",
    "\n",
    "> We can observe that the SNPs at the highest approximately 500 indexes are responsible for encoding the sex differences.\n",
    "> This aligns with the fact that in most bioinformatics applications the allosomes are listed as last chromosomes in a karyogram."
   ]
  },
  {
   "cell_type": "code",
   "execution_count": null,
   "metadata": {},
   "outputs": [],
   "source": [
    "principal_axe_3 = pca.components_[2]\n",
    "n_snp_indexes = len(principal_axe_3)\n",
    "\n",
    "plt.figure(figsize=(8, 4))\n",
    "plt.scatter(x=range(n_snp_indexes), y=principal_axe_3, alpha=0.3, marker=\"+\")\n",
    "plt.xlabel(\"SNP Index\")\n",
    "plt.ylabel(\"Principal Component 3\")\n",
    "plt.show()"
   ]
  }
 ],
 "metadata": {
  "kernelspec": {
   "display_name": "Python 3",
   "language": "python",
   "name": "python3"
  },
  "language_info": {
   "codemirror_mode": {
    "name": "ipython",
    "version": 3
   },
   "file_extension": ".py",
   "mimetype": "text/x-python",
   "name": "python",
   "nbconvert_exporter": "python",
   "pygments_lexer": "ipython3",
   "version": "3.12.7"
  }
 },
 "nbformat": 4,
 "nbformat_minor": 2
}
