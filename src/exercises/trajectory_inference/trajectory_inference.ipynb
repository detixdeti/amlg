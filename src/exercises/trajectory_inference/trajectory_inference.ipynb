{
 "cells": [
  {
   "cell_type": "markdown",
   "metadata": {},
   "source": [
    "# **Reconstructing Differentiation Pathways From Gene Expression Profiles**"
   ]
  },
  {
   "cell_type": "markdown",
   "metadata": {},
   "source": [
    "This notebook is inspired by the lecture \"[Trajectory inference using PAGA](https://nbisweden.github.io/workshop-scRNAseq/labs/scanpy/scanpy_07_trajectory.html)\" from the NBIS workshop \"[Single Cell RNA-seq Analysis](https://nbisweden.github.io/workshop-scRNAseq/)\"."
   ]
  },
  {
   "cell_type": "markdown",
   "metadata": {},
   "source": [
    "## Data Preparation"
   ]
  },
  {
   "cell_type": "markdown",
   "metadata": {},
   "source": [
    "To speed up the computations during the exercises, we will be using a subset of a bone marrow dataset (originally containing about 100,000 cells).\n",
    "The bone marrow is the source of adult immune cells, and contains virtually all differentiation stages of cells from the immune system which later circulate in the blood to all other organs.\n",
    "\n",
    "<img src=\"images/hematopoiesis.png\" width=1000 />"
   ]
  },
  {
   "cell_type": "markdown",
   "metadata": {},
   "source": [
    "The data has been preprocessed with [Seurat](https://satijalab.org/seurat/) with standard pipelines.\n",
    "In addition there was some manual filtering done to remove clusters that are disconnected and cells that are hard to cluster."
   ]
  },
  {
   "cell_type": "code",
   "execution_count": 3,
   "metadata": {},
   "outputs": [],
   "source": [
    "import os\n",
    "import urllib.request\n",
    "\n",
    "url = \"https://export.uppmax.uu.se/naiss2023-23-3/workshops/workshop-scrnaseq/trajectory/trajectory_seurat_filtered.h5ad\"\n",
    "os.makedirs(name=\"data\", exist_ok=True)\n",
    "h5ad_file_path = \"data/trajectory_seurat_filtered.h5ad\"\n",
    "if not os.path.exists(path=h5ad_file_path):\n",
    "    urllib.request.urlretrieve(url=url, filename=h5ad_file_path)"
   ]
  },
  {
   "cell_type": "markdown",
   "metadata": {},
   "source": [
    "## Quality Control"
   ]
  },
  {
   "cell_type": "markdown",
   "metadata": {},
   "source": []
  }
 ],
 "metadata": {
  "kernelspec": {
   "display_name": "Python 3",
   "language": "python",
   "name": "python3"
  },
  "language_info": {
   "codemirror_mode": {
    "name": "ipython",
    "version": 3
   },
   "file_extension": ".py",
   "mimetype": "text/x-python",
   "name": "python",
   "nbconvert_exporter": "python",
   "pygments_lexer": "ipython3",
   "version": "3.12.7"
  }
 },
 "nbformat": 4,
 "nbformat_minor": 2
}
