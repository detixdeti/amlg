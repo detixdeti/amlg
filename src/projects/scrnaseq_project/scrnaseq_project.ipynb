{
 "cells": [
  {
   "cell_type": "markdown",
   "metadata": {},
   "source": [
    "# **Single-Cell RNA-Seq Analysis Project**"
   ]
  },
  {
   "cell_type": "markdown",
   "metadata": {},
   "source": [
    "In this project, you will work with the `norman` dataset from the `perturbation_data_analysis` exercise:"
   ]
  },
  {
   "cell_type": "code",
   "execution_count": null,
   "metadata": {},
   "outputs": [],
   "source": [
    "import os\n",
    "import sys\n",
    "\n",
    "# Append the root of the Git repository to the path.\n",
    "git_root = os.popen(cmd=\"git rev-parse --show-toplevel\").read().strip()\n",
    "sys.path.append(git_root)\n",
    "\n",
    "from src.exercises.perturbation_data_analysis import pertdata as pt  # noqa: E402\n",
    "\n",
    "norman = pt.PertData.from_repo(name=\"norman\", save_dir=\"data\")\n",
    "\n",
    "print(norman)"
   ]
  },
  {
   "cell_type": "markdown",
   "metadata": {},
   "source": [
    "Choose one of the following tasks:\n",
    "\n",
    "**Exploratory Data Analysis and Visualization**\n",
    "\n",
    "- Objective: Explore the dataset to identify patterns and clusters.\n",
    "- Tasks:\n",
    "  - Perform dimensionality reduction using PCA, t-SNE, or UMAP.\n",
    "  - Visualize gene expression profiles across different conditions or perturbations.\n",
    "  - Create heatmaps of the top differentially expressed genes.\n",
    "- Learning Outcomes:\n",
    "  - Learn to visualize high-dimensional data.\n",
    "  - Interpret clusters and patterns in the context of biological conditions.\n",
    "\n",
    "**Machine Learning Classification**\n",
    "\n",
    "- Objective: Build models to classify samples based on gene expression profiles.\n",
    "- Tasks:\n",
    "  - Split the dataset into training and testing sets.\n",
    "  - Implement classification algorithms.\n",
    "  - Evaluate model performance using metrics like accuracy, precision, recall, and ROC curves.\n",
    "- Learning Outcomes:\n",
    "  - Understand supervised learning techniques.\n",
    "  - Learn model evaluation and validation strategies.\n",
    "\n",
    "**Advanced Deep Learning Applications**\n",
    "\n",
    "- Objective: Apply deep learning techniques to model complex patterns in the data.\n",
    "- Tasks:\n",
    "  - Implement autoencoders or variational autoencoders for dimensionality reduction.\n",
    "  - Explore the use of GANs to generate synthetic gene expression data.\n",
    "  - Analyze how deep learning models capture nonlinear relationships.\n",
    "- Learning Outcomes:\n",
    "  - Gain experience with deep learning frameworks.\n",
    "  - Understand the applications of deep learning in genomics."
   ]
  }
 ],
 "metadata": {
  "kernelspec": {
   "display_name": "Python 3",
   "language": "python",
   "name": "python3"
  },
  "language_info": {
   "codemirror_mode": {
    "name": "ipython",
    "version": 3
   },
   "file_extension": ".py",
   "mimetype": "text/x-python",
   "name": "python",
   "nbconvert_exporter": "python",
   "pygments_lexer": "ipython3",
   "version": "3.12.7"
  }
 },
 "nbformat": 4,
 "nbformat_minor": 2
}
